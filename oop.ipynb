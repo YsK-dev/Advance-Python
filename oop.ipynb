{
 "cells": [
  {
   "cell_type": "code",
   "execution_count": 5,
   "metadata": {},
   "outputs": [],
   "source": [
    "class CartItem:\n",
    "   pass\n"
   ]
  },
  {
   "cell_type": "code",
   "execution_count": 13,
   "metadata": {},
   "outputs": [],
   "source": [
    "item1 = CartItem()\n",
    "\n",
    "item1.name = \"phone\"\n",
    "item1.price = 21000\n",
    "item1.quantity = 3"
   ]
  },
  {
   "cell_type": "code",
   "execution_count": 14,
   "metadata": {},
   "outputs": [],
   "source": [
    "item2 = CartItem()\n",
    "\n",
    "item2.name = \"computer\"\n",
    "item2.price = 45000\n",
    "item2.quantity = 7"
   ]
  },
  {
   "cell_type": "code",
   "execution_count": 15,
   "metadata": {},
   "outputs": [
    {
     "name": "stdout",
     "output_type": "stream",
     "text": [
      "phone\n",
      "45000\n",
      "computer\n",
      "45000\n"
     ]
    }
   ],
   "source": [
    "print(item1.name)\n",
    "print(item2.price)\n",
    "print(item2.name)\n",
    "print(item2.price)"
   ]
  },
  {
   "cell_type": "code",
   "execution_count": 43,
   "metadata": {},
   "outputs": [
    {
     "name": "stdout",
     "output_type": "stream",
     "text": [
      "honda\n"
     ]
    }
   ],
   "source": [
    "class CartItem:\n",
    "    def __init__(self,name,price,quantity):\n",
    "        self.name=name\n",
    "        self.price=price\n",
    "        self.quantity=quantity\n",
    "    #İnstance Method \n",
    "    def calculateTotal(self):\n",
    "        return self.price * self.quantity\n",
    "    \n",
    "    def applyDiscount(self,rate):\n",
    "        self.price = self.price * rate\n",
    "\n",
    "\n",
    "item0= CartItem(\"honda\",25000,1)\n",
    "item1 = CartItem(\"RkS\",2300,2)\n",
    "print(item0.name)"
   ]
  },
  {
   "cell_type": "markdown",
   "metadata": {},
   "source": [
    "# Instance"
   ]
  },
  {
   "cell_type": "code",
   "execution_count": 45,
   "metadata": {},
   "outputs": [
    {
     "name": "stdout",
     "output_type": "stream",
     "text": [
      "12250.0\n"
     ]
    }
   ],
   "source": [
    "item0.applyDiscount(0.7)\n",
    "print(item0.calculateTotal())\n",
    "\n",
    "    "
   ]
  },
  {
   "cell_type": "markdown",
   "metadata": {},
   "source": [
    "### Class Methods"
   ]
  },
  {
   "cell_type": "code",
   "execution_count": 74,
   "metadata": {},
   "outputs": [
    {
     "name": "stdout",
     "output_type": "stream",
     "text": [
      "0 stock created\n",
      "honda\n",
      "<__main__.CartItem object at 0x752d363994f0>\n",
      "4 stock created\n"
     ]
    }
   ],
   "source": [
    "class CartItem:\n",
    "    itemCount = 0\n",
    "    @classmethod\n",
    "    def displayCount(cou):\n",
    "        return f\"{CartItem.itemCount} stock created\"\n",
    "    @classmethod\n",
    "    def createItem(cou,dataS):\n",
    "        name ,price ,quantity =dataS.split(\",\")\n",
    "        return cou(name,price,quantity)\n",
    "\n",
    "    def __init__(self,name,price,quantity):\n",
    "        self.name=name\n",
    "        self.price=price\n",
    "        self.quantity=quantity\n",
    "        CartItem.itemCount +=1\n",
    "    #İnstance Method \n",
    "    def calculateTotal(self):\n",
    "        return self.price * self.quantity\n",
    "    \n",
    "    def applyDiscount(self,rate):\n",
    "        self.price = self.price * rate\n",
    "\n",
    "print(CartItem.displayCount())\n",
    "item0= CartItem(\"honda\",25000,1)\n",
    "item1 = CartItem(\"RkS\",2300,2)\n",
    "CartItem.createItem(\"MErcedes,300902903,1 \")\n",
    "print(item0.name)\n",
    "print(CartItem(\"TOROS\",3,45))\n",
    "print(CartItem.displayCount())"
   ]
  },
  {
   "cell_type": "code",
   "execution_count": null,
   "metadata": {},
   "outputs": [],
   "source": []
  }
 ],
 "metadata": {
  "kernelspec": {
   "display_name": "Python 3",
   "language": "python",
   "name": "python3"
  },
  "language_info": {
   "codemirror_mode": {
    "name": "ipython",
    "version": 3
   },
   "file_extension": ".py",
   "mimetype": "text/x-python",
   "name": "python",
   "nbconvert_exporter": "python",
   "pygments_lexer": "ipython3",
   "version": "3.12.7"
  }
 },
 "nbformat": 4,
 "nbformat_minor": 2
}
