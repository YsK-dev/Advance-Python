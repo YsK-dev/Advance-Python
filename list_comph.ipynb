{
 "cells": [
  {
   "cell_type": "code",
   "execution_count": 3,
   "metadata": {},
   "outputs": [
    {
     "name": "stdout",
     "output_type": "stream",
     "text": [
      "8\n"
     ]
    }
   ],
   "source": [
    "#for item in list:\n",
    " #   if(stat):\n",
    "  #      exspression\n",
    "\n",
    "#[exspression for item in list if statement]\n",
    "\n",
    "numbers =[3,6,9,3,21,5,7,8]\n",
    "result=[]\n",
    "\n",
    "for num in numbers:\n",
    "    if(num %2==0):\n",
    "        result.append(num)\n",
    "\n",
    "print(num)"
   ]
  },
  {
   "cell_type": "code",
   "execution_count": 6,
   "metadata": {},
   "outputs": [
    {
     "name": "stdout",
     "output_type": "stream",
     "text": [
      "[26, 78, 476]\n"
     ]
    }
   ],
   "source": [
    "numbers =[26,78,45,476]\n",
    "results =[num for num in numbers if num%2 == 0]\n",
    "print(results)"
   ]
  },
  {
   "cell_type": "code",
   "execution_count": 9,
   "metadata": {},
   "outputs": [
    {
     "name": "stdout",
     "output_type": "stream",
     "text": [
      "[26, 78, 'odd number', 476]\n"
     ]
    }
   ],
   "source": [
    "result_filtered = [num if num %2 ==0 else \"odd number\"for num in numbers ]\n",
    "print(result_filtered)"
   ]
  },
  {
   "cell_type": "code",
   "execution_count": 10,
   "metadata": {},
   "outputs": [],
   "source": [
    "stockPrices =[3000,5000,4000,1000,10000]\n",
    "taxes = []\n"
   ]
  },
  {
   "cell_type": "code",
   "execution_count": 11,
   "metadata": {},
   "outputs": [
    {
     "name": "stdout",
     "output_type": "stream",
     "text": [
      "[3600.0, 6000.0, 4800.0, 12000.0]\n"
     ]
    }
   ],
   "source": [
    "for price in stockPrices:\n",
    "    if(price>1200):\n",
    "        taxes.append(price * 1.20)\n",
    "\n",
    "print(taxes)"
   ]
  },
  {
   "cell_type": "code",
   "execution_count": 13,
   "metadata": {},
   "outputs": [
    {
     "name": "stdout",
     "output_type": "stream",
     "text": [
      "[3000, 5000, 4000, 'not worth to take tax', 10000]\n"
     ]
    }
   ],
   "source": [
    "\n",
    "taxes1 = [price if price >1200 else \"not worth to take tax\" for price in stockPrices] \n",
    "print(taxes1)"
   ]
  },
  {
   "cell_type": "code",
   "execution_count": null,
   "metadata": {},
   "outputs": [
    {
     "name": "stdout",
     "output_type": "stream",
     "text": [
      "[12, 24, 36, 48, 60, 72, 84, 96]\n"
     ]
    }
   ],
   "source": [
    "dividedByTwelwe =[ i for i in range (1,101) if i %3 ==0 if i%4 ==0 ] #making the 12 dividev list comphrension\n",
    "print(dividedByTwelwe)"
   ]
  },
  {
   "cell_type": "code",
   "execution_count": 23,
   "metadata": {},
   "outputs": [
    {
     "name": "stdout",
     "output_type": "stream",
     "text": [
      "['1', '2', '3', '3', '4', '5']\n"
     ]
    }
   ],
   "source": [
    "txt = \"Hello 123345 World\"\n",
    "numInTxt = [i for i in txt if i.isdigit()]\n",
    "print(numInTxt)"
   ]
  },
  {
   "cell_type": "code",
   "execution_count": 32,
   "metadata": {},
   "outputs": [
    {
     "name": "stdout",
     "output_type": "stream",
     "text": [
      "[20, 15, 'ice danger', 'ice danger', 'ice danger']\n"
     ]
    }
   ],
   "source": [
    "temp = [20,15,0,-5,-2]\n",
    "forecast = [i  if i >0 else \"ice danger\"for i in temp]\n",
    "print(forecast)"
   ]
  },
  {
   "cell_type": "code",
   "execution_count": 3,
   "metadata": {},
   "outputs": [
    {
     "name": "stdout",
     "output_type": "stream",
     "text": [
      "['joseph', 'GRADE: ', 80, 'zinar', 'GRADE: ', 12, 'Yakup', 'GRADE: ', 90]\n"
     ]
    }
   ],
   "source": [
    "student = [\"joseph\" , \"zinar\" , \"Yakup\"]\n",
    "grade = [80, 12, 90]\n",
    "temp = []\n",
    "g='GRADE: ' \n",
    "for i in range (0,len(student)):\n",
    "    temp.append(student[i])\n",
    "    for a in range (i,i+1):\n",
    "        temp.append(g)\n",
    "        temp.append(grade[a])\n",
    "\n",
    "print(temp)"
   ]
  },
  {
   "cell_type": "code",
   "execution_count": 6,
   "metadata": {},
   "outputs": [
    {
     "name": "stdout",
     "output_type": "stream",
     "text": [
      "[('joseph', 80), ('zinar', 12), ('Yakup', 90)]\n",
      "{'joseph': 80, 'zinar': 12, 'Yakup': 90}\n"
     ]
    }
   ],
   "source": [
    "list =[(student[e],grade[e]) for e in range(0,len(student))]\n",
    "print(list)\n",
    "listDict ={ key: value for (key,value)in list if value>10}\n",
    "print(listDict)"
   ]
  },
  {
   "cell_type": "code",
   "execution_count": 9,
   "metadata": {},
   "outputs": [
    {
     "name": "stdout",
     "output_type": "stream",
     "text": [
      "[(0, 0, 0), (0, 0, 1), (0, 0, 2), (0, 0, 3), (0, 0, 4), (0, 1, 0), (0, 1, 1), (0, 1, 2), (0, 1, 3), (0, 1, 4), (0, 2, 0), (0, 2, 1), (0, 2, 2), (0, 2, 3), (0, 2, 4), (0, 3, 0), (0, 3, 1), (0, 3, 2), (0, 3, 3), (0, 3, 4), (1, 0, 0), (1, 0, 1), (1, 0, 2), (1, 0, 3), (1, 0, 4), (1, 1, 0), (1, 1, 1), (1, 1, 2), (1, 1, 3), (1, 1, 4), (1, 2, 0), (1, 2, 1), (1, 2, 2), (1, 2, 3), (1, 2, 4), (1, 3, 0), (1, 3, 1), (1, 3, 2), (1, 3, 3), (1, 3, 4), (2, 0, 0), (2, 0, 1), (2, 0, 2), (2, 0, 3), (2, 0, 4), (2, 1, 0), (2, 1, 1), (2, 1, 2), (2, 1, 3), (2, 1, 4), (2, 2, 0), (2, 2, 1), (2, 2, 2), (2, 2, 3), (2, 2, 4), (2, 3, 0), (2, 3, 1), (2, 3, 2), (2, 3, 3), (2, 3, 4)]\n"
     ]
    }
   ],
   "source": [
    "numResult =[(x,y,z) for x in range(0,3) for y in range(0,4) for z in range(0,5)]\n",
    "print(numResult)"
   ]
  },
  {
   "cell_type": "markdown",
   "metadata": {},
   "source": [
    "### LAMBDA function"
   ]
  },
  {
   "cell_type": "code",
   "execution_count": 10,
   "metadata": {},
   "outputs": [
    {
     "data": {
      "text/plain": [
       "<function __main__.<lambda>(a)>"
      ]
     },
     "execution_count": 10,
     "metadata": {},
     "output_type": "execute_result"
    }
   ],
   "source": [
    "lambda a: a**2"
   ]
  },
  {
   "cell_type": "code",
   "execution_count": 13,
   "metadata": {},
   "outputs": [
    {
     "name": "stdout",
     "output_type": "stream",
     "text": [
      "25\n"
     ]
    }
   ],
   "source": [
    "sqr = (lambda x: x**2)(5)\n",
    "print(sqr)"
   ]
  },
  {
   "cell_type": "code",
   "execution_count": 14,
   "metadata": {},
   "outputs": [
    {
     "name": "stdout",
     "output_type": "stream",
     "text": [
      "6\n"
     ]
    }
   ],
   "source": [
    "sum = lambda a,b,c: a+b+c\n",
    "suM =sum(1,2,3)\n",
    "print(suM)"
   ]
  },
  {
   "cell_type": "code",
   "execution_count": 22,
   "metadata": {},
   "outputs": [
    {
     "name": "stdout",
     "output_type": "stream",
     "text": [
      "RESULT İS --> 6\n"
     ]
    }
   ],
   "source": [
    "def myFunc(n):\n",
    "    return lambda a: a*n\n",
    "\n",
    "multi2 =myFunc(2)\n",
    "\n",
    "result=multi2(3)#2X3 \n",
    "print(\"RESULT İS -->\",result)\n"
   ]
  },
  {
   "cell_type": "code",
   "execution_count": 24,
   "metadata": {},
   "outputs": [
    {
     "name": "stdout",
     "output_type": "stream",
     "text": [
      "[1, 4, 16, 36, 81]\n"
     ]
    }
   ],
   "source": [
    "num = [1,2,4,6,9]\n",
    "square = []\n",
    "for i in num:\n",
    "    square.append(i ** 2)\n",
    "\n",
    "print(square)"
   ]
  },
  {
   "cell_type": "markdown",
   "metadata": {},
   "source": [
    "### MAP Function\n"
   ]
  },
  {
   "cell_type": "code",
   "execution_count": 34,
   "metadata": {},
   "outputs": [
    {
     "name": "stdout",
     "output_type": "stream",
     "text": [
      "[25, 9, 36, 64, 81, 1156, 7569]\n"
     ]
    }
   ],
   "source": [
    "numbers =[5,3,6,8,9,34,87]\n",
    "def squareTake(n):\n",
    "    return n ** 2\n",
    "del list\n",
    "mappedResult = list(map(squareTake,numbers))\n",
    "print(mappedResult)"
   ]
  },
  {
   "cell_type": "code",
   "execution_count": 38,
   "metadata": {},
   "outputs": [
    {
     "name": "stdout",
     "output_type": "stream",
     "text": [
      "[25, 9, 36, 64, 81, 1156, 7569]\n"
     ]
    }
   ],
   "source": [
    "mappedLambdaREsult = list(map(lambda n:n**2,numbers))\n",
    "print(mappedLambdaREsult)"
   ]
  },
  {
   "cell_type": "code",
   "execution_count": 41,
   "metadata": {},
   "outputs": [
    {
     "name": "stdout",
     "output_type": "stream",
     "text": [
      "[-6, -14, -3]\n"
     ]
    }
   ],
   "source": [
    "numbers =[ 1,2,4,6,8,-6,-14,-3]\n",
    "\n",
    "def neagativeNum(x):\n",
    "    if x <0:\n",
    "        return True\n",
    "    else:\n",
    "        return False\n",
    "    \n",
    "result = list(filter(neagativeNum,numbers))\n",
    "print(result)"
   ]
  },
  {
   "cell_type": "code",
   "execution_count": 42,
   "metadata": {},
   "outputs": [
    {
     "name": "stdout",
     "output_type": "stream",
     "text": [
      "[1, 2, 4, 6, 8]\n"
     ]
    }
   ],
   "source": [
    "result = list(filter(lambda x : x>0,numbers))\n",
    "print(result)"
   ]
  },
  {
   "cell_type": "code",
   "execution_count": 47,
   "metadata": {},
   "outputs": [
    {
     "name": "stdout",
     "output_type": "stream",
     "text": [
      "['ZINAR DEMİPlt', 'SOLD kabasakal']\n"
     ]
    }
   ],
   "source": [
    "users =[\n",
    "    {\"username\" : \"YusufSertkaya\",\"posts\":[\"post 1\",\"post2\"]},\n",
    "    {\"username\" : \"ZINAR DEMİPlt\",\"posts\":[\"post 1\",\"post2\",\"post3\",\"post4\",\"post5\",\"post6\"]},\n",
    "    {\"username\" : \"EMre Özdemir\",\"posts\":[\"post 1\",\"post2\",\"post3\"]},\n",
    "    {\"username\" : \"SOLD kabasakal\",\"posts\":[\"post 1\",\"post2\",\"post3\",\"post4\"]}\n",
    "]\n",
    "\n",
    "filteredResult = list(filter(lambda u: len(u[\"posts\"])>3,users))\n",
    "result = list(map(lambda u: u[\"username\"],filteredResult))\n",
    "print(result)"
   ]
  },
  {
   "cell_type": "markdown",
   "metadata": {},
   "source": [
    "### ANY ALL"
   ]
  },
  {
   "cell_type": "code",
   "execution_count": 54,
   "metadata": {},
   "outputs": [
    {
     "name": "stdout",
     "output_type": "stream",
     "text": [
      "False\n",
      "-----------------\n",
      "True\n",
      "-----------------\n",
      "False\n",
      "-----------------\n",
      "True\n",
      "-----------------\n",
      "True\n",
      "-----------------\n",
      "False\n",
      "-----------------\n",
      "True\n",
      "-----------------\n"
     ]
    }
   ],
   "source": [
    "result1 = all([True,True,False])\n",
    "result2 = all([True,True,True])\n",
    "result3 = all([False,False,False])\n",
    "\n",
    "result4 = any([True,True,False])\n",
    "result5 = any([True,True,True])\n",
    "result6 = any([False,False,False])\n",
    "result7 = any([True,False,False])\n",
    "\n",
    "print(result1)\n",
    "print(\"-----------------\")\n",
    "print(result2)\n",
    "print(\"-----------------\")\n",
    "print(result3)\n",
    "print(\"-----------------\")\n",
    "print(result4)\n",
    "print(\"-----------------\")\n",
    "print(result5)\n",
    "print(\"-----------------\")\n",
    "print(result6)\n",
    "print(\"-----------------\")\n",
    "print(result7)\n",
    "print(\"-----------------\")\n",
    "\n"
   ]
  },
  {
   "cell_type": "code",
   "execution_count": 57,
   "metadata": {},
   "outputs": [
    {
     "name": "stdout",
     "output_type": "stream",
     "text": [
      "False\n"
     ]
    }
   ],
   "source": [
    "users =[\"Yusuf\",\"Emre\",\"Enes\"]\n",
    "result=all([user[0] == \"E\" for user in users])\n",
    "print(result)"
   ]
  },
  {
   "cell_type": "code",
   "execution_count": 64,
   "metadata": {},
   "outputs": [
    {
     "name": "stdout",
     "output_type": "stream",
     "text": [
      "[2, 5, 66, 34, 3, 7, 9, 12]\n",
      "---------------------------\n",
      "[66, 34, 12, 9, 7, 5, 3, 2]\n"
     ]
    }
   ],
   "source": [
    "numb = [2,5,66,34,3,7,9,12]\n",
    "sortedResult = sorted(numb, reverse = True)\n",
    "print(numb)\n",
    "print(\"---------------------------\")\n",
    "print(sortedResult)"
   ]
  },
  {
   "cell_type": "code",
   "execution_count": null,
   "metadata": {},
   "outputs": [],
   "source": []
  }
 ],
 "metadata": {
  "kernelspec": {
   "display_name": "Python 3",
   "language": "python",
   "name": "python3"
  },
  "language_info": {
   "codemirror_mode": {
    "name": "ipython",
    "version": 3
   },
   "file_extension": ".py",
   "mimetype": "text/x-python",
   "name": "python",
   "nbconvert_exporter": "python",
   "pygments_lexer": "ipython3",
   "version": "3.12.7"
  }
 },
 "nbformat": 4,
 "nbformat_minor": 2
}
